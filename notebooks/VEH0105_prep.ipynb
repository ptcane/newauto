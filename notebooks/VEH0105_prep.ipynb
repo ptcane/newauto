{
 "cells": [
  {
   "cell_type": "code",
   "execution_count": 44,
   "id": "fe37db0f",
   "metadata": {},
   "outputs": [],
   "source": [
    "import pandas as pd\n",
    "import altair as alt\n",
    "import re\n",
    "import os"
   ]
  },
  {
   "cell_type": "code",
   "execution_count": 45,
   "id": "59d926f6",
   "metadata": {},
   "outputs": [],
   "source": [
    "gss_codes = {   \n",
    "            'districts': ['E06', 'E07', 'E08', 'E09', 'W06', 'S12', 'N09'],\n",
    "            'counties': ['E13', 'E11', 'E10', 'E06', 'W06', 'S12', 'N09'],\n",
    "            'regions': ['E12', 'W92', 'S92', 'N92'],\n",
    "            'countries': ['E92', 'W92', 'S92', 'N92']\n",
    "            }"
   ]
  },
  {
   "cell_type": "code",
   "execution_count": 46,
   "id": "5f9f3159",
   "metadata": {},
   "outputs": [],
   "source": [
    "parent_counties = {'E07': 'E10',\n",
    "                   'E08': 'E11',\n",
    "                   'E09': 'E13'}\n",
    "\n",
    "parent_regions = {'E06': 'E12',\n",
    "                  'E07': 'E12',\n",
    "                  'E08': 'E12',\n",
    "                  'E09': 'E12',\n",
    "                  'W06': 'W92',\n",
    "                  'N09': 'N92',\n",
    "                  'S12': 'S92'}\n",
    "\n",
    "parent_countries = {\n",
    "                  'E06': 'E92',\n",
    "                  'E07': 'E92',\n",
    "                  'E08': 'E92',\n",
    "                  'E09': 'E92',\n",
    "                  'W06': 'W92',\n",
    "                  'N09': 'N92',\n",
    "                  'S12': 'S92'}"
   ]
  },
  {
   "cell_type": "code",
   "execution_count": 47,
   "id": "f6f17b81",
   "metadata": {},
   "outputs": [],
   "source": [
    "def read_sheet(file, sheet_name, skiprows):\n",
    "    \n",
    "    sheet_df = pd.read_excel(file, \n",
    "                             sheet_name=sheet_name,\n",
    "                             skiprows=skiprows)\n",
    "    \n",
    "    sheet_df.rename(columns=lambda x: re.sub('\\s\\[note\\s\\d+\\]','',x), inplace=True)\n",
    "    sheet_df['ONS Code'] = sheet_df['ONS Code'].apply(lambda x: re.sub('\\s\\[note\\s\\d+\\]','',x))\n",
    "    sheet_df['ONS Code'] = sheet_df['ONS Code'].str.replace(' (Met County)', '', regex=False)\n",
    "    sheet_df['area_group'] = sheet_df['ONS Code'].apply(lambda x: x[:3])\n",
    "    \n",
    "    sheet_df.drop(['Units'], axis=1, inplace=True)\n",
    "    sheet_df.replace(\"[x]\", pd.NA, inplace=True)\n",
    "    \n",
    "    return sheet_df"
   ]
  },
  {
   "cell_type": "code",
   "execution_count": 48,
   "id": "94ab44a1",
   "metadata": {},
   "outputs": [],
   "source": [
    "def save_subset(sheet_df, subset, codes, topic):\n",
    "                \n",
    "    df = sheet_df[sheet_df['area_group'].isin(codes)].copy()\n",
    "    df.drop('area_group', axis=1, inplace=True)\n",
    "    \n",
    "    if not os.path.exists(f\"../data/{topic}\"):\n",
    "        os.makedirs(f\"../data/{topic}\") \n",
    "                \n",
    "    df.to_csv(f'../data/{topic}/{subset}.csv', index=False)\n",
    "    \n",
    "    return"
   ]
  },
  {
   "cell_type": "code",
   "execution_count": 49,
   "id": "5a1378a3",
   "metadata": {
    "scrolled": true
   },
   "outputs": [],
   "source": [
    "df = read_sheet(\"../data/veh0105.xlsx\", \"VEH0105\", 4)\n"
   ]
  },
  {
   "cell_type": "code",
   "execution_count": 50,
   "id": "0dc17613",
   "metadata": {},
   "outputs": [],
   "source": [
    "for key, value in gss_codes.items():    \n",
    "    save_subset(df, key, value, \"VEH0105\")"
   ]
  },
  {
   "cell_type": "code",
   "execution_count": 43,
   "id": "5d2f95dd",
   "metadata": {},
   "outputs": [],
   "source": []
  },
  {
   "cell_type": "code",
   "execution_count": null,
   "id": "0ddbaeae",
   "metadata": {},
   "outputs": [],
   "source": []
  }
 ],
 "metadata": {
  "kernelspec": {
   "display_name": "Poetry",
   "language": "python",
   "name": "poetry-kernel"
  },
  "language_info": {
   "codemirror_mode": {
    "name": "ipython",
    "version": 3
   },
   "file_extension": ".py",
   "mimetype": "text/x-python",
   "name": "python",
   "nbconvert_exporter": "python",
   "pygments_lexer": "ipython3",
   "version": "3.8.13"
  }
 },
 "nbformat": 4,
 "nbformat_minor": 5
}
